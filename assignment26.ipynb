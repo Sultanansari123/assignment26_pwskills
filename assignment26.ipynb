{
 "cells": [
  {
   "cell_type": "markdown",
   "id": "d0bab9b7-f885-442b-899d-f9c60c86e180",
   "metadata": {},
   "source": [
    "# Ans1-"
   ]
  },
  {
   "cell_type": "markdown",
   "id": "41a3b190-897c-4158-809f-07d256901b40",
   "metadata": {},
   "source": [
    "Simple linear regression involves predicting a dependent variable based on a single independent variable, while multiple linear regression involves predicting a dependent variable based on two or more independent variables.\n",
    "\n",
    "Example of simple linear regression: Predicting a student's exam score (dependent variable) based on the number of hours they studied (independent variable).\n",
    "\n",
    "Example of multiple linear regression: Predicting a house's sale price (dependent variable) based on factors such as square footage, number of bedrooms, and location (multiple independent variables).\n",
    "\n",
    "\n",
    "\n",
    "\n"
   ]
  },
  {
   "cell_type": "markdown",
   "id": "00bddbad-6451-4ecf-9022-9090eb10fba1",
   "metadata": {},
   "source": [
    "# Ans2-"
   ]
  },
  {
   "cell_type": "markdown",
   "id": "20494ca8-034f-4ad7-b4ca-51a7fd6d00ba",
   "metadata": {},
   "source": [
    "Assumptions of linear regression:\n",
    "\n",
    "Linearity: The relationship between the variables is linear.\n",
    "\n",
    "Independence: Residuals (errors) are independent of each other.\n",
    "\n",
    "Normality: Residuals are normally distributed.\n",
    "\n",
    "No perfect multicollinearity: Independent variables are not perfectly correlated."
   ]
  },
  {
   "cell_type": "markdown",
   "id": "2e1a0826-66a8-4e10-8462-f27ff59257c6",
   "metadata": {},
   "source": [
    "check assumptions:\n",
    "Linearity: Use scatterplots or residual plots.\n",
    "\n",
    "Independence: Check for autocorrelation in residuals.\n",
    "\n",
    "Normality: Use normal probability plots or statistical tests.\n",
    "\n",
    "No perfect multicollinearity: Assess variance inflation factor (VIF) for each variable.\n",
    "\n",
    "\n",
    "\n"
   ]
  },
  {
   "cell_type": "markdown",
   "id": "ce4649a1-394d-4b0a-ad8f-8604f5ad926f",
   "metadata": {},
   "source": [
    "# Ans3-"
   ]
  },
  {
   "cell_type": "markdown",
   "id": "a650f98b-af28-4908-8450-89d3ca540d5a",
   "metadata": {},
   "source": [
    "The slope in a linear regression model represents the change in the dependent variable for a one-unit change in the independent variable, holding other variables constant. The intercept is the value of the dependent variable when all independent variables are zero."
   ]
  },
  {
   "cell_type": "raw",
   "id": "c23ff26b-c231-4fed-81c0-117ee523b651",
   "metadata": {},
   "source": [
    "Slope: If the slope is 500, it means that, on average, each additional year of experience is associated with a 500doller increase in salary, assuming other factors remain constant.\n",
    "Intercept: If the intercept is 30,000,doller it represents the estimated salary for someone with zero years of experience, assuming other factors are zero (which may not always be meaningful in a real-world context)."
   ]
  },
  {
   "cell_type": "markdown",
   "id": "e9c3abaa-d147-49a2-bb25-c0c8fa0247bd",
   "metadata": {},
   "source": [
    "# Ans4-"
   ]
  },
  {
   "cell_type": "markdown",
   "id": "3e011164-0e4b-4ddc-a7a7-fdc4e27f5bc3",
   "metadata": {},
   "source": [
    "Gradient descent minimizes the error of a model by adjusting its parameters in the direction that reduces the error most rapidly.\n",
    "\n",
    "\n",
    "\n",
    "\n",
    "\n"
   ]
  },
  {
   "cell_type": "markdown",
   "id": "f3461ebe-75bf-4926-9307-b4590113248e",
   "metadata": {},
   "source": [
    "# Ans5-"
   ]
  },
  {
   "cell_type": "markdown",
   "id": "1fa9f931-8e4e-4079-939e-789c04bd908f",
   "metadata": {},
   "source": [
    "Multiple linear regression involves predicting a dependent variable based on two or more independent variables, in contrast to simple linear regression, which uses only one independent variable."
   ]
  },
  {
   "cell_type": "markdown",
   "id": "2b4d69cd-708b-4ade-ae36-3963f73d6e76",
   "metadata": {},
   "source": [
    "# Ans6-"
   ]
  },
  {
   "cell_type": "markdown",
   "id": "bd85e82f-dae3-479e-9436-48fde78bd68c",
   "metadata": {},
   "source": [
    "Multicollinearity in multiple linear regression occurs when independent variables are highly correlated, leading to instability in coefficient estimates."
   ]
  },
  {
   "cell_type": "markdown",
   "id": "e3dbc395-f35b-4edb-981b-06e5fbfc4a49",
   "metadata": {},
   "source": [
    "Detection: Calculate variance inflation factor (VIF) for each variable; high VIF values indicate multicollinearity."
   ]
  },
  {
   "cell_type": "markdown",
   "id": "94bbfe0f-d62a-4569-9ec8-8071c85e32de",
   "metadata": {},
   "source": [
    "Addressing: Remove one of the correlated variables, combine them, or use dimensionality reduction techniques like principal component analysis."
   ]
  },
  {
   "cell_type": "markdown",
   "id": "f00a06d6-831e-45aa-a4af-1d022855cdb4",
   "metadata": {},
   "source": [
    "# Ans7-"
   ]
  },
  {
   "cell_type": "markdown",
   "id": "056e1e71-9d05-4740-87f1-0dac48bfdecd",
   "metadata": {},
   "source": [
    "\n",
    "Advantages of Polynomial Regression:\n",
    "\n",
    "Captures non-linear relationships more effectively than linear regression.\n",
    "Flexible in fitting complex curves.\n",
    "Disadvantages of Polynomial Regression:\n",
    "\n",
    "Prone to overfitting, especially with higher-degree polynomials.\n",
    "Interpretability of the model becomes challenging.\n",
    "Use Polynomial Regression when:\n",
    "\n",
    "The relationship between variables is non-linear and cannot be adequately captured by a linear model."
   ]
  },
  {
   "cell_type": "code",
   "execution_count": null,
   "id": "51dc850f-a653-4d77-a431-4cd6e008522d",
   "metadata": {},
   "outputs": [],
   "source": []
  }
 ],
 "metadata": {
  "kernelspec": {
   "display_name": "Python 3 (ipykernel)",
   "language": "python",
   "name": "python3"
  },
  "language_info": {
   "codemirror_mode": {
    "name": "ipython",
    "version": 3
   },
   "file_extension": ".py",
   "mimetype": "text/x-python",
   "name": "python",
   "nbconvert_exporter": "python",
   "pygments_lexer": "ipython3",
   "version": "3.10.8"
  }
 },
 "nbformat": 4,
 "nbformat_minor": 5
}
